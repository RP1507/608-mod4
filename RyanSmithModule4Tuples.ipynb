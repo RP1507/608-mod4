{
 "cells": [
  {
   "cell_type": "markdown",
   "id": "b298f1af-d2cd-4301-b659-803b21a63b07",
   "metadata": {},
   "source": [
    "# Module 4 Project - Chapters 5 and 6"
   ]
  },
  {
   "cell_type": "markdown",
   "id": "9a1963f7-75f7-4591-b851-49e84ea7c9c4",
   "metadata": {},
   "source": [
    "#### Creating tuples"
   ]
  },
  {
   "cell_type": "code",
   "execution_count": 1,
   "id": "ab39c5ce-b7d6-4cbc-86a6-4b2216144afd",
   "metadata": {},
   "outputs": [],
   "source": [
    "student_tuple = () #Creating empty tuple"
   ]
  },
  {
   "cell_type": "code",
   "execution_count": 2,
   "id": "d52cfe39-209b-4944-b090-3a4687a877fc",
   "metadata": {},
   "outputs": [
    {
     "data": {
      "text/plain": [
       "()"
      ]
     },
     "execution_count": 2,
     "metadata": {},
     "output_type": "execute_result"
    }
   ],
   "source": [
    "student_tuple"
   ]
  },
  {
   "cell_type": "code",
   "execution_count": 3,
   "id": "b21c1f05-8c17-46e7-856f-32f86de737b3",
   "metadata": {},
   "outputs": [
    {
     "data": {
      "text/plain": [
       "0"
      ]
     },
     "execution_count": 3,
     "metadata": {},
     "output_type": "execute_result"
    }
   ],
   "source": [
    "len(student_tuple)"
   ]
  },
  {
   "cell_type": "code",
   "execution_count": 5,
   "id": "b7aaa283-fdd7-4872-834c-1b8409453899",
   "metadata": {},
   "outputs": [],
   "source": [
    "student_tuple = 'John', 'Green', 3.3"
   ]
  },
  {
   "cell_type": "code",
   "execution_count": 6,
   "id": "80974e9b-5a1c-4d4b-9510-2f3fe3c22e6b",
   "metadata": {},
   "outputs": [
    {
     "data": {
      "text/plain": [
       "('John', 'Green', 3.3)"
      ]
     },
     "execution_count": 6,
     "metadata": {},
     "output_type": "execute_result"
    }
   ],
   "source": [
    "student_tuple"
   ]
  },
  {
   "cell_type": "code",
   "execution_count": 7,
   "id": "849e242c-6ff5-41a7-a812-cc873cc79866",
   "metadata": {},
   "outputs": [
    {
     "data": {
      "text/plain": [
       "3"
      ]
     },
     "execution_count": 7,
     "metadata": {},
     "output_type": "execute_result"
    }
   ],
   "source": [
    "len(student_tuple)"
   ]
  },
  {
   "cell_type": "code",
   "execution_count": 8,
   "id": "fb85c7d5-0cb3-4cdd-8f7c-abdbdb18a4c3",
   "metadata": {},
   "outputs": [],
   "source": [
    "another_student_tuple = ('Mary', 'Red', 3.3)"
   ]
  },
  {
   "cell_type": "code",
   "execution_count": 9,
   "id": "dfbe3830-3fab-42e2-85b1-bd695f571d72",
   "metadata": {},
   "outputs": [
    {
     "data": {
      "text/plain": [
       "('Mary', 'Red', 3.3)"
      ]
     },
     "execution_count": 9,
     "metadata": {},
     "output_type": "execute_result"
    }
   ],
   "source": [
    "another_student_tuple"
   ]
  },
  {
   "cell_type": "code",
   "execution_count": 11,
   "id": "6e043d15-f999-4ce5-87cb-2ba2b4c6344d",
   "metadata": {},
   "outputs": [],
   "source": [
    "a_singleton_tuple = ('red',) #Creating a tuple with a single value"
   ]
  },
  {
   "cell_type": "code",
   "execution_count": 12,
   "id": "8a85ddd2-a1fa-4686-85e9-95d56d4d621c",
   "metadata": {},
   "outputs": [
    {
     "data": {
      "text/plain": [
       "('red',)"
      ]
     },
     "execution_count": 12,
     "metadata": {},
     "output_type": "execute_result"
    }
   ],
   "source": [
    "a_singleton_tuple"
   ]
  },
  {
   "cell_type": "markdown",
   "id": "e0edfea9-5de2-4792-ba46-91962a069fcc",
   "metadata": {},
   "source": [
    "#### Accessing Tuple Elements"
   ]
  },
  {
   "cell_type": "code",
   "execution_count": 13,
   "id": "0cc39601-7c2d-4ed9-9136-deb7e5d36cdc",
   "metadata": {},
   "outputs": [],
   "source": [
    "time_tuple = (9, 16, 1)"
   ]
  },
  {
   "cell_type": "code",
   "execution_count": 14,
   "id": "16771181-79f8-40d7-8298-e08714f9a04e",
   "metadata": {},
   "outputs": [
    {
     "data": {
      "text/plain": [
       "(9, 16, 1)"
      ]
     },
     "execution_count": 14,
     "metadata": {},
     "output_type": "execute_result"
    }
   ],
   "source": [
    "time_tuple"
   ]
  },
  {
   "cell_type": "code",
   "execution_count": 15,
   "id": "10cd1cff-99df-467d-8602-4adfe7b3c784",
   "metadata": {},
   "outputs": [
    {
     "data": {
      "text/plain": [
       "9"
      ]
     },
     "execution_count": 15,
     "metadata": {},
     "output_type": "execute_result"
    }
   ],
   "source": [
    "time_tuple[0]"
   ]
  },
  {
   "cell_type": "code",
   "execution_count": 16,
   "id": "0078daa5-b08e-4a2f-af2e-c91c2847e1cd",
   "metadata": {},
   "outputs": [
    {
     "data": {
      "text/plain": [
       "33361"
      ]
     },
     "execution_count": 16,
     "metadata": {},
     "output_type": "execute_result"
    }
   ],
   "source": [
    "time_tuple[0] * 3600 + time_tuple[1] * 60 + time_tuple[2]"
   ]
  },
  {
   "cell_type": "markdown",
   "id": "65d7174d-e4b1-4375-b9cd-273d898adfa5",
   "metadata": {},
   "source": [
    "#### Adding items to tuples"
   ]
  },
  {
   "cell_type": "code",
   "execution_count": 17,
   "id": "6f1c329f-1a90-41d2-8960-667bc9f56b85",
   "metadata": {},
   "outputs": [],
   "source": [
    "tuple1 = (10, 20, 30)"
   ]
  },
  {
   "cell_type": "code",
   "execution_count": 20,
   "id": "ddfcf3dd-bc0f-4ee5-b05b-59a2be5efbab",
   "metadata": {},
   "outputs": [],
   "source": [
    "tuple2 = tuple1"
   ]
  },
  {
   "cell_type": "code",
   "execution_count": 21,
   "id": "1ef60305-50d0-40a1-84e6-c75e44b9d1c2",
   "metadata": {},
   "outputs": [
    {
     "data": {
      "text/plain": [
       "(10, 20, 30)"
      ]
     },
     "execution_count": 21,
     "metadata": {},
     "output_type": "execute_result"
    }
   ],
   "source": [
    "tuple2"
   ]
  },
  {
   "cell_type": "code",
   "execution_count": 22,
   "id": "c51b3636-725d-435d-9291-1b15bca7494e",
   "metadata": {},
   "outputs": [],
   "source": [
    "tuple1 += (40, 50)"
   ]
  },
  {
   "cell_type": "code",
   "execution_count": 23,
   "id": "2a554ba4-f60f-45a8-89be-c44ee4b1f5d5",
   "metadata": {},
   "outputs": [
    {
     "data": {
      "text/plain": [
       "(10, 20, 30, 40, 50)"
      ]
     },
     "execution_count": 23,
     "metadata": {},
     "output_type": "execute_result"
    }
   ],
   "source": [
    "tuple1"
   ]
  },
  {
   "cell_type": "code",
   "execution_count": 24,
   "id": "c2885c55-fb66-4cf0-9184-e3e25a1832af",
   "metadata": {},
   "outputs": [
    {
     "data": {
      "text/plain": [
       "(10, 20, 30)"
      ]
     },
     "execution_count": 24,
     "metadata": {},
     "output_type": "execute_result"
    }
   ],
   "source": [
    "tuple2"
   ]
  },
  {
   "cell_type": "code",
   "execution_count": 25,
   "id": "446fb6ef-2dde-4b0f-9ad3-b1afdeb1fc39",
   "metadata": {},
   "outputs": [],
   "source": [
    "numbers = [1, 2, 3, 4, 5]"
   ]
  },
  {
   "cell_type": "code",
   "execution_count": 26,
   "id": "407a1fa7-b31a-45f6-921b-39826be31b61",
   "metadata": {},
   "outputs": [],
   "source": [
    "numbers += [6, 7]"
   ]
  },
  {
   "cell_type": "code",
   "execution_count": 27,
   "id": "33f75dc6-dc97-4844-b599-cc4730f9cbda",
   "metadata": {},
   "outputs": [
    {
     "data": {
      "text/plain": [
       "[1, 2, 3, 4, 5, 6, 7]"
      ]
     },
     "execution_count": 27,
     "metadata": {},
     "output_type": "execute_result"
    }
   ],
   "source": [
    "numbers"
   ]
  },
  {
   "cell_type": "code",
   "execution_count": 28,
   "id": "3d79f1c7-d88a-4add-b5c2-a006189dba38",
   "metadata": {},
   "outputs": [],
   "source": [
    "student_tuple = ('Amanda', 'Blue', [98, 75, 87])"
   ]
  },
  {
   "cell_type": "code",
   "execution_count": 29,
   "id": "a40d9de1-05eb-4d0e-8cbb-2b2b9db135d8",
   "metadata": {},
   "outputs": [
    {
     "data": {
      "text/plain": [
       "('Amanda', 'Blue', [98, 75, 87])"
      ]
     },
     "execution_count": 29,
     "metadata": {},
     "output_type": "execute_result"
    }
   ],
   "source": [
    "student_tuple"
   ]
  },
  {
   "cell_type": "markdown",
   "id": "5e907e7e-6627-441f-9d68-7029622e0b21",
   "metadata": {},
   "source": [
    "#### Self Check 5.3"
   ]
  },
  {
   "cell_type": "code",
   "execution_count": 30,
   "id": "f1992930-6c33-4bda-ad63-a5b15217552c",
   "metadata": {},
   "outputs": [],
   "source": [
    "single = (123.45,)"
   ]
  },
  {
   "cell_type": "code",
   "execution_count": 32,
   "id": "72ad16f6-2646-483e-8d65-2142ee9924a9",
   "metadata": {},
   "outputs": [
    {
     "name": "stdout",
     "output_type": "stream",
     "text": [
      "(123.45,)\n"
     ]
    }
   ],
   "source": [
    "print(single)"
   ]
  },
  {
   "cell_type": "markdown",
   "id": "c8d8db21-5eb0-4ae2-9f6c-bae7dcaa52b7",
   "metadata": {},
   "source": [
    "#### Unpacking tuples"
   ]
  },
  {
   "cell_type": "code",
   "execution_count": 33,
   "id": "e035b195-9b94-4e52-9275-34394f9af5b0",
   "metadata": {},
   "outputs": [],
   "source": [
    "student_tuple = ('Amanda', [98,85,87])"
   ]
  },
  {
   "cell_type": "code",
   "execution_count": 34,
   "id": "0f060524-6a1f-4bf4-8aec-5656d3c293eb",
   "metadata": {},
   "outputs": [],
   "source": [
    "first_name, grades = student_tuple"
   ]
  },
  {
   "cell_type": "code",
   "execution_count": 35,
   "id": "b3bd393b-27b7-4f5a-a083-2dcbc1a420fc",
   "metadata": {},
   "outputs": [
    {
     "data": {
      "text/plain": [
       "'Amanda'"
      ]
     },
     "execution_count": 35,
     "metadata": {},
     "output_type": "execute_result"
    }
   ],
   "source": [
    "first_name"
   ]
  },
  {
   "cell_type": "code",
   "execution_count": 36,
   "id": "5ebc88fb-e11d-4b38-aba9-928b4bd2f413",
   "metadata": {},
   "outputs": [
    {
     "data": {
      "text/plain": [
       "[98, 85, 87]"
      ]
     },
     "execution_count": 36,
     "metadata": {},
     "output_type": "execute_result"
    }
   ],
   "source": [
    "grades"
   ]
  },
  {
   "cell_type": "code",
   "execution_count": 37,
   "id": "ad82acd3-e11c-4a12-99f4-1c3b21430bca",
   "metadata": {},
   "outputs": [],
   "source": [
    "first, second = 'hi'"
   ]
  },
  {
   "cell_type": "code",
   "execution_count": 38,
   "id": "5c4d034e-f4f5-445f-a957-b682f3235a9c",
   "metadata": {},
   "outputs": [
    {
     "name": "stdout",
     "output_type": "stream",
     "text": [
      "h i\n"
     ]
    }
   ],
   "source": [
    "print(f'{first} {second}')"
   ]
  },
  {
   "cell_type": "markdown",
   "id": "e9703131-bfda-44af-82f6-dff9fe04d9d8",
   "metadata": {},
   "source": [
    "#### Creating a Primitive Bar Chart"
   ]
  },
  {
   "cell_type": "code",
   "execution_count": 40,
   "id": "ca9d1827-ef11-42be-8329-4b28c91e59a4",
   "metadata": {},
   "outputs": [
    {
     "name": "stdout",
     "output_type": "stream",
     "text": [
      "\n",
      "Creating a bar chart from numbers:\n",
      "Index   Value  Bar\n",
      "    0      19  *******************\n",
      "    1       3  ***\n",
      "    2      15  ***************\n",
      "    3       7  *******\n",
      "    4      11  ***********\n"
     ]
    }
   ],
   "source": [
    "\"\"\"Displaying a Bar Chart\"\"\"\n",
    "numbers = [19, 3, 15, 7, 11]\n",
    "\n",
    "print('\\nCreating a bar chart from numbers:')\n",
    "print(f'Index{\"Value\":>8}  Bar')\n",
    "\n",
    "for index, value in enumerate(numbers):\n",
    "    print(f'{index:>5}{value:>8}  {\"*\" * value}')"
   ]
  },
  {
   "cell_type": "code",
   "execution_count": null,
   "id": "38d362a2-0f98-4843-91f8-43d71f064578",
   "metadata": {},
   "outputs": [],
   "source": []
  }
 ],
 "metadata": {
  "kernelspec": {
   "display_name": "Python 3 (ipykernel)",
   "language": "python",
   "name": "python3"
  },
  "language_info": {
   "codemirror_mode": {
    "name": "ipython",
    "version": 3
   },
   "file_extension": ".py",
   "mimetype": "text/x-python",
   "name": "python",
   "nbconvert_exporter": "python",
   "pygments_lexer": "ipython3",
   "version": "3.9.7"
  }
 },
 "nbformat": 4,
 "nbformat_minor": 5
}
