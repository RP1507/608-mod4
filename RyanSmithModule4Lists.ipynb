{
 "cells": [
  {
   "cell_type": "markdown",
   "id": "de9bc6b1-dc93-4ef1-9977-b1997d6019d6",
   "metadata": {},
   "source": [
    "# Module 4 Project - Chapters 5 and 6"
   ]
  },
  {
   "cell_type": "markdown",
   "id": "ac42002c-312f-4255-b676-4ee3e35c02c1",
   "metadata": {},
   "source": [
    "### Working with Lists"
   ]
  },
  {
   "cell_type": "code",
   "execution_count": 2,
   "id": "10d7fa37-b4d9-4d74-bbed-0c37b5dde4db",
   "metadata": {},
   "outputs": [],
   "source": [
    "c = [-45, 6, 0, 72, 1543]  # creating a list from 5.2"
   ]
  },
  {
   "cell_type": "markdown",
   "id": "456ae9d4-81a0-4420-9036-31968d7caea2",
   "metadata": {},
   "source": [
    "Accessing and Manipulating a list"
   ]
  },
  {
   "cell_type": "code",
   "execution_count": 3,
   "id": "861d686b-817f-4079-96ef-db3dc0725665",
   "metadata": {},
   "outputs": [
    {
     "data": {
      "text/plain": [
       "[-45, 6, 0, 72, 1543]"
      ]
     },
     "execution_count": 3,
     "metadata": {},
     "output_type": "execute_result"
    }
   ],
   "source": [
    "c"
   ]
  },
  {
   "cell_type": "code",
   "execution_count": 4,
   "id": "4ec8e540-76cd-4c2e-ab7c-0b6f24e2a72f",
   "metadata": {},
   "outputs": [
    {
     "data": {
      "text/plain": [
       "-45"
      ]
     },
     "execution_count": 4,
     "metadata": {},
     "output_type": "execute_result"
    }
   ],
   "source": [
    "c[0] #Return the first element of a list"
   ]
  },
  {
   "cell_type": "code",
   "execution_count": 5,
   "id": "0b08c87a-b82c-4e13-8161-d0f58a36ea4b",
   "metadata": {},
   "outputs": [
    {
     "data": {
      "text/plain": [
       "1543"
      ]
     },
     "execution_count": 5,
     "metadata": {},
     "output_type": "execute_result"
    }
   ],
   "source": [
    "c[4] #Return the 5th element of a list"
   ]
  },
  {
   "cell_type": "code",
   "execution_count": 6,
   "id": "1ff4679e-2a4b-46ba-bc2a-6696952fdd88",
   "metadata": {},
   "outputs": [
    {
     "data": {
      "text/plain": [
       "5"
      ]
     },
     "execution_count": 6,
     "metadata": {},
     "output_type": "execute_result"
    }
   ],
   "source": [
    "len(c) #find the length of a list"
   ]
  },
  {
   "cell_type": "code",
   "execution_count": 7,
   "id": "0f59c317-da70-4413-837a-9dca3b365789",
   "metadata": {},
   "outputs": [
    {
     "data": {
      "text/plain": [
       "1543"
      ]
     },
     "execution_count": 7,
     "metadata": {},
     "output_type": "execute_result"
    }
   ],
   "source": [
    "c[-1] #Get last element in the list"
   ]
  },
  {
   "cell_type": "code",
   "execution_count": 9,
   "id": "b368c6f2-63c4-4c3e-9b6d-9520473db325",
   "metadata": {},
   "outputs": [
    {
     "ename": "IndexError",
     "evalue": "list index out of range",
     "output_type": "error",
     "traceback": [
      "\u001b[1;31m---------------------------------------------------------------------------\u001b[0m",
      "\u001b[1;31mIndexError\u001b[0m                                Traceback (most recent call last)",
      "Input \u001b[1;32mIn [9]\u001b[0m, in \u001b[0;36m<module>\u001b[1;34m\u001b[0m\n\u001b[1;32m----> 1\u001b[0m \u001b[43mc\u001b[49m\u001b[43m[\u001b[49m\u001b[38;5;241;43m100\u001b[39;49m\u001b[43m]\u001b[49m\n",
      "\u001b[1;31mIndexError\u001b[0m: list index out of range"
     ]
    }
   ],
   "source": [
    "c[100] #What happens when use larger number than in list? --Returns an Index Error and says list out of range"
   ]
  },
  {
   "cell_type": "code",
   "execution_count": 10,
   "id": "7a5d959d-0bc8-44d3-a53b-39226ef5cdf5",
   "metadata": {},
   "outputs": [
    {
     "data": {
      "text/plain": [
       "-39"
      ]
     },
     "execution_count": 10,
     "metadata": {},
     "output_type": "execute_result"
    }
   ],
   "source": [
    "c[0] + c[1] + c[2] #Adding the first three elements in the list"
   ]
  },
  {
   "cell_type": "markdown",
   "id": "6353311a-1300-415d-8897-5ff884638be1",
   "metadata": {},
   "source": [
    "#### Appending to a List"
   ]
  },
  {
   "cell_type": "code",
   "execution_count": 11,
   "id": "0947a9d6-62f8-4757-9f6c-16977b4b4866",
   "metadata": {},
   "outputs": [],
   "source": [
    "a_list = [] #setting up an empty list to begin\n",
    "\n",
    "for number in range (1, 6):\n",
    "    a_list += [number]"
   ]
  },
  {
   "cell_type": "code",
   "execution_count": 12,
   "id": "3706af91-0bb3-4025-acb8-88efdf2cefed",
   "metadata": {},
   "outputs": [
    {
     "data": {
      "text/plain": [
       "[1, 2, 3, 4, 5]"
      ]
     },
     "execution_count": 12,
     "metadata": {},
     "output_type": "execute_result"
    }
   ],
   "source": [
    "a_list"
   ]
  },
  {
   "cell_type": "markdown",
   "id": "20ca6a38-1ad6-4a98-966a-1d8ecaa88cb3",
   "metadata": {},
   "source": [
    "#### Concatenating two lists"
   ]
  },
  {
   "cell_type": "code",
   "execution_count": 16,
   "id": "dd7093fa-2c19-4c55-8ed7-dd54fc4d0ee9",
   "metadata": {},
   "outputs": [],
   "source": [
    "list1 = [10, 20, 30] #Setting up list one\n",
    "list2 = [40, 50] #Setting up list two\n",
    "\n",
    "concatenated_list = list1 + list2\n"
   ]
  },
  {
   "cell_type": "code",
   "execution_count": 17,
   "id": "ff5c285c-53c8-4022-8b79-8f82980afc5b",
   "metadata": {},
   "outputs": [
    {
     "data": {
      "text/plain": [
       "[10, 20, 30, 40, 50]"
      ]
     },
     "execution_count": 17,
     "metadata": {},
     "output_type": "execute_result"
    }
   ],
   "source": [
    "concatenated_list"
   ]
  },
  {
   "cell_type": "markdown",
   "id": "58a45035-6513-45ed-ac29-ce130fd1a851",
   "metadata": {},
   "source": [
    "### Using for and range to Access List"
   ]
  },
  {
   "cell_type": "code",
   "execution_count": 20,
   "id": "1f43e66c-9fb1-44c4-b063-fcc3eb7b5107",
   "metadata": {},
   "outputs": [
    {
     "name": "stdout",
     "output_type": "stream",
     "text": [
      "0: 10\n",
      "1: 20\n",
      "2: 30\n",
      "3: 40\n",
      "4: 50\n"
     ]
    }
   ],
   "source": [
    "for i in range(len(concatenated_list)):\n",
    "    print(f'{i}: {concatenated_list[i]}')   ##Formating list##\n",
    "    "
   ]
  },
  {
   "cell_type": "markdown",
   "id": "e678c196-99d0-409a-a37c-b7fc8300aea7",
   "metadata": {},
   "source": [
    "### 3 Lists and comparisons"
   ]
  },
  {
   "cell_type": "code",
   "execution_count": 21,
   "id": "d3b10026-b0ba-480c-893c-9d41080a9542",
   "metadata": {},
   "outputs": [],
   "source": [
    "a = [1, 2, 3]\n",
    "b = [1, 2, 3]\n",
    "c = [1, 2, 3, 4]  ###Creating the 3 lists"
   ]
  },
  {
   "cell_type": "code",
   "execution_count": 22,
   "id": "1bfdd825-1fc1-4a71-abf8-edd62e380699",
   "metadata": {},
   "outputs": [
    {
     "data": {
      "text/plain": [
       "True"
      ]
     },
     "execution_count": 22,
     "metadata": {},
     "output_type": "execute_result"
    }
   ],
   "source": [
    "a == b #Comparing a to be"
   ]
  },
  {
   "cell_type": "code",
   "execution_count": 23,
   "id": "ee792f3e-35a4-4373-b0fa-ade9ab555644",
   "metadata": {},
   "outputs": [
    {
     "data": {
      "text/plain": [
       "False"
      ]
     },
     "execution_count": 23,
     "metadata": {},
     "output_type": "execute_result"
    }
   ],
   "source": [
    "a == c #Comparing a to c"
   ]
  },
  {
   "cell_type": "code",
   "execution_count": 25,
   "id": "e3a3f8e0-0204-4249-a641-eb182ad0570d",
   "metadata": {},
   "outputs": [
    {
     "data": {
      "text/plain": [
       "True"
      ]
     },
     "execution_count": 25,
     "metadata": {},
     "output_type": "execute_result"
    }
   ],
   "source": [
    "a < c #Seeing if a has fewer elements than c"
   ]
  },
  {
   "cell_type": "code",
   "execution_count": 26,
   "id": "45052e53-202b-411c-aa6e-42df90709192",
   "metadata": {},
   "outputs": [
    {
     "data": {
      "text/plain": [
       "True"
      ]
     },
     "execution_count": 26,
     "metadata": {},
     "output_type": "execute_result"
    }
   ],
   "source": [
    "c >= b #Seeing if c has the same or more elements than b"
   ]
  },
  {
   "cell_type": "markdown",
   "id": "18dc77a7-1d90-419b-9eb6-4fd5f3ac4260",
   "metadata": {},
   "source": [
    "### Self Check Chapter 5.2"
   ]
  },
  {
   "cell_type": "markdown",
   "id": "44f1a814-cd39-4e0d-9048-9e9c889cdefa",
   "metadata": {},
   "source": [
    "##### Creating a function cube list"
   ]
  },
  {
   "cell_type": "code",
   "execution_count": 40,
   "id": "2f84e36e-9601-43c2-bf4d-775984cc05b3",
   "metadata": {},
   "outputs": [],
   "source": [
    "def cube_list(values):\n",
    "    for i in range(len(values)):\n",
    "        values[i] **= 3"
   ]
  },
  {
   "cell_type": "code",
   "execution_count": 41,
   "id": "7c488139-7c3f-4cf6-ab59-014453b43382",
   "metadata": {},
   "outputs": [],
   "source": [
    "numbers = [1, 2, 3, 4, 5, 6, 7, 8, 9, 10]"
   ]
  },
  {
   "cell_type": "code",
   "execution_count": 42,
   "id": "c4004055-ed71-4a6b-a6d3-25e1fd6285ad",
   "metadata": {},
   "outputs": [],
   "source": [
    "cube_list(numbers)"
   ]
  },
  {
   "cell_type": "code",
   "execution_count": 43,
   "id": "b4f87ea6-beab-46ea-86bc-47f641e36fd3",
   "metadata": {},
   "outputs": [
    {
     "data": {
      "text/plain": [
       "[1, 8, 27, 64, 125, 216, 343, 512, 729, 1000]"
      ]
     },
     "execution_count": 43,
     "metadata": {},
     "output_type": "execute_result"
    }
   ],
   "source": [
    "numbers"
   ]
  },
  {
   "cell_type": "code",
   "execution_count": null,
   "id": "259b6e67-8c35-4a3b-9e66-fd51f2a1f4ca",
   "metadata": {},
   "outputs": [],
   "source": []
  }
 ],
 "metadata": {
  "kernelspec": {
   "display_name": "Python 3 (ipykernel)",
   "language": "python",
   "name": "python3"
  },
  "language_info": {
   "codemirror_mode": {
    "name": "ipython",
    "version": 3
   },
   "file_extension": ".py",
   "mimetype": "text/x-python",
   "name": "python",
   "nbconvert_exporter": "python",
   "pygments_lexer": "ipython3",
   "version": "3.9.7"
  }
 },
 "nbformat": 4,
 "nbformat_minor": 5
}
