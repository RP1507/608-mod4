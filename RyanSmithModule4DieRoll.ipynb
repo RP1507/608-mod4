{
 "cells": [
  {
   "cell_type": "markdown",
   "id": "525c72b4-b010-4cd0-b723-3c7b993f7fab",
   "metadata": {},
   "source": [
    "# Module 4 - Chapter 5: Die Roll Visualization 5.17"
   ]
  },
  {
   "cell_type": "code",
   "execution_count": 1,
   "id": "89de712c-43a2-490a-8e60-8648d420da18",
   "metadata": {},
   "outputs": [],
   "source": [
    "import matplotlib.pyplot as plt"
   ]
  },
  {
   "cell_type": "code",
   "execution_count": 2,
   "id": "d553ad90-6c38-4e02-b8fa-5f0caa383f29",
   "metadata": {},
   "outputs": [],
   "source": [
    "import numpy as np"
   ]
  },
  {
   "cell_type": "code",
   "execution_count": 3,
   "id": "3efc84fc-9fba-48ce-8f62-c325c25a4650",
   "metadata": {},
   "outputs": [],
   "source": [
    "import random"
   ]
  },
  {
   "cell_type": "code",
   "execution_count": 4,
   "id": "ee2ec708-05ef-41e4-ac7e-1a0d247be9d9",
   "metadata": {},
   "outputs": [],
   "source": [
    "import seaborn as sns"
   ]
  },
  {
   "cell_type": "code",
   "execution_count": 5,
   "id": "efa0a687-ce3a-4ae4-9197-9986213a490a",
   "metadata": {},
   "outputs": [],
   "source": [
    "rolls = [random.randrange(1, 7) for i in range(600)]"
   ]
  },
  {
   "cell_type": "code",
   "execution_count": 6,
   "id": "a942ca1b-134c-41f2-af5a-b805c1acee47",
   "metadata": {},
   "outputs": [],
   "source": [
    "values, frequencies = np.unique(rolls, return_counts=True)"
   ]
  },
  {
   "cell_type": "code",
   "execution_count": 7,
   "id": "336e45b6-0343-4fa8-8e83-3e10810db1d1",
   "metadata": {},
   "outputs": [],
   "source": [
    "title = f'Rolling a Six-Sided Die {len(rolls):,} Times'"
   ]
  },
  {
   "cell_type": "code",
   "execution_count": 8,
   "id": "1731fb8e-8b31-408a-b86d-e0f12b18fb15",
   "metadata": {},
   "outputs": [],
   "source": [
    "sns.set_style('whitegrid')"
   ]
  },
  {
   "cell_type": "code",
   "execution_count": 9,
   "id": "664f35c2-2aa7-42df-9607-c2ad62f9e894",
   "metadata": {},
   "outputs": [
    {
     "data": {
      "image/png": "[encoded data removed]",
      "text/plain": [
       "<Figure size 432x288 with 1 Axes>"
      ]
     },
     "metadata": {},
     "output_type": "display_data"
    }
   ],
   "source": [
    "axes = sns.barplot(x=values, y=frequencies, palette='bright')"
   ]
  },
  {
   "cell_type": "code",
   "execution_count": 10,
   "id": "f82d8157-d732-412d-8901-0ee55fce6b94",
   "metadata": {},
   "outputs": [
    {
     "data": {
      "text/plain": [
       "Text(0.5, 1.0, 'Rolling a Six-Sided Die 600 Times')"
      ]
     },
     "execution_count": 10,
     "metadata": {},
     "output_type": "execute_result"
    }
   ],
   "source": [
    "axes.set_title(title)"
   ]
  },
  {
   "cell_type": "code",
   "execution_count": 11,
   "id": "21624d0f-844b-4160-85ee-962c354c5756",
   "metadata": {},
   "outputs": [
    {
     "data": {
      "text/plain": [
       "[Text(0.5, 3.1999999999999993, 'Die Value'),\n",
       " Text(3.2000000000000064, 0.5, 'Frequency')]"
      ]
     },
     "execution_count": 11,
     "metadata": {},
     "output_type": "execute_result"
    }
   ],
   "source": [
    "axes.set(xlabel='Die Value', ylabel='Frequency')"
   ]
  },
  {
   "cell_type": "code",
   "execution_count": 12,
   "id": "82a2cd24-2c77-445c-8bea-3f74273b9ba4",
   "metadata": {},
   "outputs": [
    {
     "data": {
      "text/plain": [
       "(0.0, 114.4)"
      ]
     },
     "execution_count": 12,
     "metadata": {},
     "output_type": "execute_result"
    }
   ],
   "source": [
    "axes.set_ylim(top=max(frequencies) * 1.10)"
   ]
  },
  {
   "cell_type": "code",
   "execution_count": 13,
   "id": "e22a6538-b899-4be3-a162-7ef15f8c6fe7",
   "metadata": {},
   "outputs": [],
   "source": [
    "for bar, frequency in zip(axes.patches, frequencies):\n",
    "    text_x = bar.get_x() + bar.get_width() / 2.0\n",
    "    text_y = bar.get_height()\n",
    "    text = f'{frequency:,}\\n{frequency / len(rolls):.3%}'\n",
    "    axes.text(text_x, text_y, text, \n",
    "              fontsize=11, ha='center', va='bottom')"
   ]
  },
  {
   "cell_type": "code",
   "execution_count": 14,
   "id": "32ade762-547b-4afa-bc5e-8b557c94d729",
   "metadata": {},
   "outputs": [
    {
     "data": {
      "image/png": "[encoded data removed]",
      "text/plain": [
       "<Figure size 432x288 with 1 Axes>"
      ]
     },
     "metadata": {},
     "output_type": "display_data"
    }
   ],
   "source": [
    "plt.cla()"
   ]
  },
  {
   "cell_type": "code",
   "execution_count": 15,
   "id": "8f7b2868-7106-42d4-a1c3-4795d4daaa75",
   "metadata": {},
   "outputs": [],
   "source": [
    "%recall 5"
   ]
  },
  {
   "cell_type": "code",
   "execution_count": 16,
   "id": "60072ec6-2033-4b72-b57a-511ed3ce92c9",
   "metadata": {},
   "outputs": [],
   "source": [
    "rolls = [random.randrange(1, 7) for i in range(60000)]"
   ]
  },
  {
   "cell_type": "code",
   "execution_count": 17,
   "id": "b2cd9291-bbde-4bbc-818c-237565fa8cd7",
   "metadata": {},
   "outputs": [],
   "source": [
    "%recall 6-13"
   ]
  },
  {
   "cell_type": "code",
   "execution_count": 18,
   "id": "af50904c-bf74-4aa2-9fc2-37324c6c11a4",
   "metadata": {},
   "outputs": [
    {
     "data": {
      "image/png": "[encoded data removed]",
      "text/plain": [
       "<Figure size 432x288 with 1 Axes>"
      ]
     },
     "metadata": {},
     "output_type": "display_data"
    }
   ],
   "source": [
    "values, frequencies = np.unique(rolls, return_counts=True)\n",
    "title = f'Rolling a Six-Sided Die {len(rolls):,} Times'\n",
    "sns.set_style('whitegrid')\n",
    "axes = sns.barplot(x=values, y=frequencies, palette='bright')\n",
    "axes.set_title(title)\n",
    "axes.set(xlabel='Die Value', ylabel='Frequency')\n",
    "axes.set_ylim(top=max(frequencies) * 1.10)\n",
    "for bar, frequency in zip(axes.patches, frequencies):\n",
    "    text_x = bar.get_x() + bar.get_width() / 2.0\n",
    "    text_y = bar.get_height()\n",
    "    text = f'{frequency:,}\\n{frequency / len(rolls):.3%}'\n",
    "    axes.text(text_x, text_y, text, \n",
    "              fontsize=11, ha='center', va='bottom')"
   ]
  },
  {
   "cell_type": "code",
   "execution_count": 19,
   "id": "db40a747-68b0-450e-ac34-c12d23c3286a",
   "metadata": {},
   "outputs": [
    {
     "name": "stdin",
     "output_type": "stream",
     "text": [
      "File `RollDie.py` exists. Overwrite (y/[N])?   y\n"
     ]
    },
    {
     "name": "stdout",
     "output_type": "stream",
     "text": [
      "The following commands were written to file `RollDie.py`:\n",
      "import matplotlib.pyplot as plt\n",
      "import numpy as np\n",
      "import random\n",
      "import seaborn as sns\n",
      "rolls = [random.randrange(1, 7) for i in range(600)]\n",
      "values, frequencies = np.unique(rolls, return_counts=True)\n",
      "title = f'Rolling a Six-Sided Die {len(rolls):,} Times'\n",
      "sns.set_style('whitegrid')\n",
      "axes = sns.barplot(x=values, y=frequencies, palette='bright')\n",
      "axes.set_title(title)\n",
      "axes.set(xlabel='Die Value', ylabel='Frequency')\n",
      "axes.set_ylim(top=max(frequencies) * 1.10)\n",
      "for bar, frequency in zip(axes.patches, frequencies):\n",
      "    text_x = bar.get_x() + bar.get_width() / 2.0\n",
      "    text_y = bar.get_height()\n",
      "    text = f'{frequency:,}\\n{frequency / len(rolls):.3%}'\n",
      "    axes.text(text_x, text_y, text, \n",
      "              fontsize=11, ha='center', va='bottom')\n"
     ]
    }
   ],
   "source": [
    "%save RollDie.py 1-13"
   ]
  },
  {
   "cell_type": "markdown",
   "id": "2e4c1934-e290-4e5d-b6ea-890f9e74aa7a",
   "metadata": {},
   "source": [
    "### Self Check 5.17"
   ]
  },
  {
   "cell_type": "code",
   "execution_count": 20,
   "id": "aa445cca-b206-4d2d-97f6-fc8ec8a1b9d6",
   "metadata": {},
   "outputs": [
    {
     "data": {
      "image/png": "[encoded data removed]",
      "text/plain": [
       "<Figure size 432x288 with 1 Axes>"
      ]
     },
     "metadata": {},
     "output_type": "display_data"
    }
   ],
   "source": [
    "plt.cla()"
   ]
  },
  {
   "cell_type": "code",
   "execution_count": 21,
   "id": "c52b099e-95ab-4dde-a6b4-3aefb22f2551",
   "metadata": {},
   "outputs": [],
   "source": [
    "%recall 5"
   ]
  },
  {
   "cell_type": "code",
   "execution_count": 22,
   "id": "e8c73809-d66c-4eda-9d92-588adb0fdc69",
   "metadata": {},
   "outputs": [],
   "source": [
    "rolls = [random.randrange(1, 7) for i in range(6000000)]"
   ]
  },
  {
   "cell_type": "code",
   "execution_count": 23,
   "id": "9f12cb09-df57-4fc2-b33f-60c5b75dbdec",
   "metadata": {},
   "outputs": [],
   "source": [
    "%recall 6-13"
   ]
  },
  {
   "cell_type": "code",
   "execution_count": 24,
   "id": "dfca9bd9-b452-4f69-9bec-aae70068ad85",
   "metadata": {},
   "outputs": [
    {
     "data": {
      "image/png": "[encoded data removed]",
      "text/plain": [
       "<Figure size 432x288 with 1 Axes>"
      ]
     },
     "metadata": {},
     "output_type": "display_data"
    }
   ],
   "source": [
    "values, frequencies = np.unique(rolls, return_counts=True)\n",
    "title = f'Rolling a Six-Sided Die {len(rolls):,} Times'\n",
    "sns.set_style('whitegrid')\n",
    "axes = sns.barplot(x=values, y=frequencies, palette='bright')\n",
    "axes.set_title(title)\n",
    "axes.set(xlabel='Die Value', ylabel='Frequency')\n",
    "axes.set_ylim(top=max(frequencies) * 1.10)\n",
    "for bar, frequency in zip(axes.patches, frequencies):\n",
    "    text_x = bar.get_x() + bar.get_width() / 2.0\n",
    "    text_y = bar.get_height()\n",
    "    text = f'{frequency:,}\\n{frequency / len(rolls):.3%}'\n",
    "    axes.text(text_x, text_y, text, \n",
    "              fontsize=11, ha='center', va='bottom')"
   ]
  }
 ],
 "metadata": {
  "kernelspec": {
   "display_name": "Python 3 (ipykernel)",
   "language": "python",
   "name": "python3"
  },
  "language_info": {
   "codemirror_mode": {
    "name": "ipython",
    "version": 3
   },
   "file_extension": ".py",
   "mimetype": "text/x-python",
   "name": "python",
   "nbconvert_exporter": "python",
   "pygments_lexer": "ipython3",
   "version": "3.9.7"
  }
 },
 "nbformat": 4,
 "nbformat_minor": 5
}
