{
 "cells": [
  {
   "cell_type": "markdown",
   "id": "3a48ef51-66b1-4049-933f-303b75224132",
   "metadata": {},
   "source": [
    "# Module 4 Practice Chapter 5 - 6"
   ]
  },
  {
   "cell_type": "markdown",
   "id": "2efb7ba8-ad3b-444d-8344-5a35bb355192",
   "metadata": {},
   "source": [
    "#### Sequence Slicing 5.5"
   ]
  },
  {
   "cell_type": "code",
   "execution_count": 1,
   "id": "4d0c4181-0ef2-4886-861e-10f1b6091314",
   "metadata": {},
   "outputs": [],
   "source": [
    "numbers = [2, 3, 5, 7, 11, 13, 17, 19]"
   ]
  },
  {
   "cell_type": "code",
   "execution_count": 2,
   "id": "6f67f588-4e7e-491d-90ff-c412cb40a812",
   "metadata": {},
   "outputs": [
    {
     "data": {
      "text/plain": [
       "[5, 7, 11, 13]"
      ]
     },
     "execution_count": 2,
     "metadata": {},
     "output_type": "execute_result"
    }
   ],
   "source": [
    "numbers[2:6]"
   ]
  },
  {
   "cell_type": "code",
   "execution_count": 3,
   "id": "b662c5b1-85f3-4913-80fb-3fcd47d6c90c",
   "metadata": {},
   "outputs": [
    {
     "data": {
      "text/plain": [
       "[2, 3, 5, 7, 11, 13]"
      ]
     },
     "execution_count": 3,
     "metadata": {},
     "output_type": "execute_result"
    }
   ],
   "source": [
    "numbers[:6]"
   ]
  },
  {
   "cell_type": "code",
   "execution_count": 4,
   "id": "391f4cbf-2599-4eed-8c61-534c7e0fc7c5",
   "metadata": {},
   "outputs": [
    {
     "data": {
      "text/plain": [
       "[17, 19]"
      ]
     },
     "execution_count": 4,
     "metadata": {},
     "output_type": "execute_result"
    }
   ],
   "source": [
    "numbers[6:]"
   ]
  },
  {
   "cell_type": "code",
   "execution_count": 5,
   "id": "cb79a8d4-6fa6-4213-95f6-963f4e63a1e9",
   "metadata": {},
   "outputs": [
    {
     "data": {
      "text/plain": [
       "[2, 5, 11, 17]"
      ]
     },
     "execution_count": 5,
     "metadata": {},
     "output_type": "execute_result"
    }
   ],
   "source": [
    "numbers[::2]"
   ]
  },
  {
   "cell_type": "markdown",
   "id": "a9b09c4f-1475-4ecd-997f-fed5cb233a0c",
   "metadata": {},
   "source": [
    "#### Self Check 5.5"
   ]
  },
  {
   "cell_type": "code",
   "execution_count": 6,
   "id": "cafee3ec-d716-479b-9044-38de7a8b7c16",
   "metadata": {},
   "outputs": [],
   "source": [
    "numbers = list(range(1, 16))"
   ]
  },
  {
   "cell_type": "code",
   "execution_count": 9,
   "id": "7bbbac18-c922-47e2-a17d-3836cb0ee297",
   "metadata": {},
   "outputs": [
    {
     "data": {
      "text/plain": [
       "[1, 2, 3, 4, 5, 6, 7, 8, 9, 10, 11, 12, 13, 14, 15]"
      ]
     },
     "execution_count": 9,
     "metadata": {},
     "output_type": "execute_result"
    }
   ],
   "source": [
    "numbers"
   ]
  },
  {
   "cell_type": "code",
   "execution_count": 10,
   "id": "f96f99ca-0976-4a4d-aeca-bb32618238d4",
   "metadata": {},
   "outputs": [
    {
     "data": {
      "text/plain": [
       "[2, 4, 6, 8, 10, 12, 14]"
      ]
     },
     "execution_count": 10,
     "metadata": {},
     "output_type": "execute_result"
    }
   ],
   "source": [
    "numbers[1:len(numbers):2]"
   ]
  },
  {
   "cell_type": "code",
   "execution_count": 13,
   "id": "79d20a28-358b-4036-8094-82adf182018b",
   "metadata": {},
   "outputs": [],
   "source": [
    "numbers[5:10] = [0] * len(numbers[5:10])"
   ]
  },
  {
   "cell_type": "code",
   "execution_count": 15,
   "id": "3c32fbb6-8189-413c-ac89-2574459fb840",
   "metadata": {},
   "outputs": [
    {
     "data": {
      "text/plain": [
       "[1, 2, 3, 4, 5, 0, 0, 0, 0, 0, 11, 12, 13, 14, 15]"
      ]
     },
     "execution_count": 15,
     "metadata": {},
     "output_type": "execute_result"
    }
   ],
   "source": [
    "numbers"
   ]
  },
  {
   "cell_type": "code",
   "execution_count": 16,
   "id": "cd004486-94d9-4dbc-a1c1-eecec1d8a3c9",
   "metadata": {},
   "outputs": [],
   "source": [
    "numbers[5:] = []"
   ]
  },
  {
   "cell_type": "code",
   "execution_count": 17,
   "id": "63d682b9-1fd7-4367-a193-169a6d1fb6df",
   "metadata": {},
   "outputs": [
    {
     "data": {
      "text/plain": [
       "[1, 2, 3, 4, 5]"
      ]
     },
     "execution_count": 17,
     "metadata": {},
     "output_type": "execute_result"
    }
   ],
   "source": [
    "numbers"
   ]
  },
  {
   "cell_type": "code",
   "execution_count": 20,
   "id": "cce41225-3c62-4d3d-8db9-80ece9d397ad",
   "metadata": {},
   "outputs": [],
   "source": [
    "numbers[:] = []"
   ]
  },
  {
   "cell_type": "code",
   "execution_count": 21,
   "id": "26628bb7-0c8c-4ae8-9ece-9176143eabce",
   "metadata": {},
   "outputs": [
    {
     "data": {
      "text/plain": [
       "[]"
      ]
     },
     "execution_count": 21,
     "metadata": {},
     "output_type": "execute_result"
    }
   ],
   "source": [
    "numbers"
   ]
  },
  {
   "cell_type": "markdown",
   "id": "5976beff-9d17-4c14-8d71-0f8f7b4f458b",
   "metadata": {},
   "source": [
    "#### del Statement 5.6"
   ]
  },
  {
   "cell_type": "code",
   "execution_count": 22,
   "id": "dfa688e0-9521-4587-90bb-97a2ec597a42",
   "metadata": {},
   "outputs": [],
   "source": [
    "numbers = list(range(0, 10))"
   ]
  },
  {
   "cell_type": "code",
   "execution_count": 23,
   "id": "edc80f7b-93d5-49fb-a35f-35143bfdd617",
   "metadata": {},
   "outputs": [
    {
     "data": {
      "text/plain": [
       "[0, 1, 2, 3, 4, 5, 6, 7, 8, 9]"
      ]
     },
     "execution_count": 23,
     "metadata": {},
     "output_type": "execute_result"
    }
   ],
   "source": [
    "numbers"
   ]
  },
  {
   "cell_type": "code",
   "execution_count": 24,
   "id": "3def0cd7-c197-4438-9d4f-88f3985478d8",
   "metadata": {},
   "outputs": [],
   "source": [
    "del numbers[-1]"
   ]
  },
  {
   "cell_type": "code",
   "execution_count": 25,
   "id": "84b0de34-67b1-4508-bb01-890d0fa9c498",
   "metadata": {},
   "outputs": [
    {
     "data": {
      "text/plain": [
       "[0, 1, 2, 3, 4, 5, 6, 7, 8]"
      ]
     },
     "execution_count": 25,
     "metadata": {},
     "output_type": "execute_result"
    }
   ],
   "source": [
    "numbers"
   ]
  },
  {
   "cell_type": "code",
   "execution_count": 26,
   "id": "f5e3a220-5da6-42a1-ab6a-6d263b8578b1",
   "metadata": {},
   "outputs": [],
   "source": [
    "del numbers [0:2]"
   ]
  },
  {
   "cell_type": "code",
   "execution_count": 27,
   "id": "73fc681e-cc34-4a04-be17-7080fb9be271",
   "metadata": {},
   "outputs": [
    {
     "data": {
      "text/plain": [
       "[2, 3, 4, 5, 6, 7, 8]"
      ]
     },
     "execution_count": 27,
     "metadata": {},
     "output_type": "execute_result"
    }
   ],
   "source": [
    "numbers"
   ]
  },
  {
   "cell_type": "markdown",
   "id": "025e08a7-9ef6-494c-9e7a-a2bbb037c47b",
   "metadata": {},
   "source": [
    "#### Self Check 5.6"
   ]
  },
  {
   "cell_type": "code",
   "execution_count": 28,
   "id": "4d6ea675-2bfe-4d37-b4fb-4d957593997c",
   "metadata": {},
   "outputs": [],
   "source": [
    "numbers = list(range(1, 16))"
   ]
  },
  {
   "cell_type": "code",
   "execution_count": 29,
   "id": "18f07289-394b-49e7-9bd3-76cba4813a72",
   "metadata": {},
   "outputs": [
    {
     "data": {
      "text/plain": [
       "[1, 2, 3, 4, 5, 6, 7, 8, 9, 10, 11, 12, 13, 14, 15]"
      ]
     },
     "execution_count": 29,
     "metadata": {},
     "output_type": "execute_result"
    }
   ],
   "source": [
    "numbers"
   ]
  },
  {
   "cell_type": "code",
   "execution_count": 30,
   "id": "f81fd1a3-9fb4-43c0-9331-6ffd9c51b8a9",
   "metadata": {},
   "outputs": [],
   "source": [
    "del numbers [0:4]"
   ]
  },
  {
   "cell_type": "code",
   "execution_count": 31,
   "id": "0876df6a-c03c-4fb3-8c77-ace1f08535bb",
   "metadata": {},
   "outputs": [
    {
     "data": {
      "text/plain": [
       "[5, 6, 7, 8, 9, 10, 11, 12, 13, 14, 15]"
      ]
     },
     "execution_count": 31,
     "metadata": {},
     "output_type": "execute_result"
    }
   ],
   "source": [
    "numbers"
   ]
  },
  {
   "cell_type": "code",
   "execution_count": 32,
   "id": "289b87a0-3da3-473c-be97-ff847d7256ab",
   "metadata": {},
   "outputs": [],
   "source": [
    "del numbers[::2]"
   ]
  },
  {
   "cell_type": "code",
   "execution_count": 33,
   "id": "a62dc845-1284-40a1-8488-c18450e13817",
   "metadata": {},
   "outputs": [
    {
     "data": {
      "text/plain": [
       "[6, 8, 10, 12, 14]"
      ]
     },
     "execution_count": 33,
     "metadata": {},
     "output_type": "execute_result"
    }
   ],
   "source": [
    "numbers"
   ]
  },
  {
   "cell_type": "markdown",
   "id": "508337d0-67fd-472b-9da1-187cfcd6ffed",
   "metadata": {},
   "source": [
    "#### Passing Lists to Functions 5.7"
   ]
  },
  {
   "cell_type": "code",
   "execution_count": 34,
   "id": "b2a17b24-57c4-4a65-8ddb-fffac187e0e4",
   "metadata": {},
   "outputs": [],
   "source": [
    "def modify_elements(items):\n",
    "    \"\"\"Multipliers all element values in items by 2.\"\"\"\n",
    "    for i in range(len(items)):\n",
    "        items[i] *=2"
   ]
  },
  {
   "cell_type": "code",
   "execution_count": 35,
   "id": "b99d29de-0064-4a3c-8120-69381c3e4f0b",
   "metadata": {},
   "outputs": [],
   "source": [
    "numbers = [10, 3, 7, 1, 9]"
   ]
  },
  {
   "cell_type": "code",
   "execution_count": 36,
   "id": "39c7c6a8-2260-4f09-8f54-a8727bebd817",
   "metadata": {},
   "outputs": [],
   "source": [
    "modify_elements(numbers)"
   ]
  },
  {
   "cell_type": "code",
   "execution_count": 37,
   "id": "2dcbd4ee-335e-4a5e-a75e-376d92648118",
   "metadata": {},
   "outputs": [
    {
     "data": {
      "text/plain": [
       "[20, 6, 14, 2, 18]"
      ]
     },
     "execution_count": 37,
     "metadata": {},
     "output_type": "execute_result"
    }
   ],
   "source": [
    "numbers"
   ]
  },
  {
   "cell_type": "markdown",
   "id": "6e1e4b4a-9f00-494c-90c3-3f3440fd8a40",
   "metadata": {},
   "source": [
    "#### Sorting Lists 5.8"
   ]
  },
  {
   "cell_type": "code",
   "execution_count": 38,
   "id": "934e3d38-5a19-43f5-bf05-085627dc0ceb",
   "metadata": {},
   "outputs": [],
   "source": [
    "numbers = [10, 3, 7, 1 ,9, 4, 2, 8, 5, 6]"
   ]
  },
  {
   "cell_type": "code",
   "execution_count": 39,
   "id": "4dd1428a-d308-4bff-9894-8b861dcfd4a6",
   "metadata": {},
   "outputs": [],
   "source": [
    "numbers.sort()"
   ]
  },
  {
   "cell_type": "code",
   "execution_count": 40,
   "id": "f155f29a-4537-42e3-93ed-522b89f819c3",
   "metadata": {},
   "outputs": [
    {
     "data": {
      "text/plain": [
       "[1, 2, 3, 4, 5, 6, 7, 8, 9, 10]"
      ]
     },
     "execution_count": 40,
     "metadata": {},
     "output_type": "execute_result"
    }
   ],
   "source": [
    "numbers"
   ]
  },
  {
   "cell_type": "code",
   "execution_count": 41,
   "id": "5a9a148b-487c-473d-b8f0-8dbe2cd1e101",
   "metadata": {},
   "outputs": [],
   "source": [
    "letters = 'fadgchjebi'"
   ]
  },
  {
   "cell_type": "code",
   "execution_count": 42,
   "id": "9d1df7d2-00fb-4dcc-8bac-2fe713649263",
   "metadata": {},
   "outputs": [],
   "source": [
    "ascending_letters = sorted(letters)"
   ]
  },
  {
   "cell_type": "code",
   "execution_count": 43,
   "id": "91884de9-b084-4bd5-87c1-ef93cd746401",
   "metadata": {},
   "outputs": [
    {
     "data": {
      "text/plain": [
       "['a', 'b', 'c', 'd', 'e', 'f', 'g', 'h', 'i', 'j']"
      ]
     },
     "execution_count": 43,
     "metadata": {},
     "output_type": "execute_result"
    }
   ],
   "source": [
    "ascending_letters"
   ]
  },
  {
   "cell_type": "code",
   "execution_count": 44,
   "id": "06c790a0-7bec-4fea-bf09-8414771e8f37",
   "metadata": {},
   "outputs": [
    {
     "data": {
      "text/plain": [
       "'fadgchjebi'"
      ]
     },
     "execution_count": 44,
     "metadata": {},
     "output_type": "execute_result"
    }
   ],
   "source": [
    "letters"
   ]
  },
  {
   "cell_type": "code",
   "execution_count": 45,
   "id": "74fd81cc-b457-4740-bc06-8da25793eb8d",
   "metadata": {},
   "outputs": [],
   "source": [
    "colors = ('red', 'orange', 'yellow', 'green', 'blue')"
   ]
  },
  {
   "cell_type": "code",
   "execution_count": 46,
   "id": "ea3ac4d2-9c81-43e3-a7ed-14eccffc8180",
   "metadata": {},
   "outputs": [],
   "source": [
    "ascending_colors = sorted(colors)"
   ]
  },
  {
   "cell_type": "code",
   "execution_count": 48,
   "id": "f315e1f2-f799-40ff-b6f9-09b56a6f635f",
   "metadata": {},
   "outputs": [
    {
     "data": {
      "text/plain": [
       "['blue', 'green', 'orange', 'red', 'yellow']"
      ]
     },
     "execution_count": 48,
     "metadata": {},
     "output_type": "execute_result"
    }
   ],
   "source": [
    "ascending_colors"
   ]
  },
  {
   "cell_type": "code",
   "execution_count": 49,
   "id": "5b2a91b6-acf0-4e2c-a683-095e54af34e3",
   "metadata": {},
   "outputs": [
    {
     "data": {
      "text/plain": [
       "('red', 'orange', 'yellow', 'green', 'blue')"
      ]
     },
     "execution_count": 49,
     "metadata": {},
     "output_type": "execute_result"
    }
   ],
   "source": [
    "colors"
   ]
  },
  {
   "cell_type": "markdown",
   "id": "627e152c-1de8-43d6-9f8f-c6c45cb46e48",
   "metadata": {},
   "source": [
    "#### Self Check 5.8"
   ]
  },
  {
   "cell_type": "code",
   "execution_count": 51,
   "id": "fb96896f-00ea-4267-84db-8907dd9b3eae",
   "metadata": {},
   "outputs": [],
   "source": [
    "foods = ['Cookies', 'pizza', 'Grapes', 'apples',\n",
    "         'steak', 'Bacon']"
   ]
  },
  {
   "cell_type": "code",
   "execution_count": 54,
   "id": "d7665e32-f7d7-402d-a495-4339a69ce8ff",
   "metadata": {},
   "outputs": [],
   "source": [
    "foods.sort()"
   ]
  },
  {
   "cell_type": "code",
   "execution_count": 55,
   "id": "35571471-ae66-4379-9f42-859c3c51caf8",
   "metadata": {},
   "outputs": [
    {
     "data": {
      "text/plain": [
       "['Bacon', 'Cookies', 'Grapes', 'apples', 'pizza', 'steak']"
      ]
     },
     "execution_count": 55,
     "metadata": {},
     "output_type": "execute_result"
    }
   ],
   "source": [
    "foods"
   ]
  },
  {
   "cell_type": "markdown",
   "id": "15380e0f-30ba-46a5-b2a1-84ee82f737b8",
   "metadata": {},
   "source": [
    "#### Searching Sequences 5.9"
   ]
  },
  {
   "cell_type": "code",
   "execution_count": 56,
   "id": "49fc7313-eb37-4f8a-b44d-8878fba3968d",
   "metadata": {},
   "outputs": [],
   "source": [
    "numbers = [3, 7, 1, 4, 2, 8, 5, 6]"
   ]
  },
  {
   "cell_type": "code",
   "execution_count": 57,
   "id": "f397106d-9c9a-4aad-a8a1-ba35c89238ed",
   "metadata": {},
   "outputs": [
    {
     "data": {
      "text/plain": [
       "6"
      ]
     },
     "execution_count": 57,
     "metadata": {},
     "output_type": "execute_result"
    }
   ],
   "source": [
    "numbers.index(5)"
   ]
  },
  {
   "cell_type": "code",
   "execution_count": 59,
   "id": "d9cc4c9e-f851-477c-b8c7-6bc0349e8da6",
   "metadata": {},
   "outputs": [],
   "source": [
    "numbers *= 2"
   ]
  },
  {
   "cell_type": "code",
   "execution_count": 60,
   "id": "b5eb4d9f-d80d-426d-9279-412ca82ed64b",
   "metadata": {},
   "outputs": [
    {
     "data": {
      "text/plain": [
       "[3, 7, 1, 4, 2, 8, 5, 6, 3, 7, 1, 4, 2, 8, 5, 6]"
      ]
     },
     "execution_count": 60,
     "metadata": {},
     "output_type": "execute_result"
    }
   ],
   "source": [
    "numbers"
   ]
  },
  {
   "cell_type": "code",
   "execution_count": 61,
   "id": "16313ece-2c26-40fd-9026-38300c0d55f2",
   "metadata": {},
   "outputs": [
    {
     "data": {
      "text/plain": [
       "14"
      ]
     },
     "execution_count": 61,
     "metadata": {},
     "output_type": "execute_result"
    }
   ],
   "source": [
    "numbers.index(5, 7)"
   ]
  },
  {
   "cell_type": "code",
   "execution_count": 62,
   "id": "b8ab0a00-0e80-4502-8b72-90e145d280dd",
   "metadata": {},
   "outputs": [
    {
     "data": {
      "text/plain": [
       "1"
      ]
     },
     "execution_count": 62,
     "metadata": {},
     "output_type": "execute_result"
    }
   ],
   "source": [
    "numbers.index(7, 0, 4)"
   ]
  },
  {
   "cell_type": "code",
   "execution_count": 63,
   "id": "cd745ff0-640a-4cc1-a65b-d69ceacdd727",
   "metadata": {},
   "outputs": [
    {
     "data": {
      "text/plain": [
       "False"
      ]
     },
     "execution_count": 63,
     "metadata": {},
     "output_type": "execute_result"
    }
   ],
   "source": [
    "1000 in numbers"
   ]
  },
  {
   "cell_type": "code",
   "execution_count": 64,
   "id": "f95e0a7d-b875-48ec-8237-e39e7f7f72b6",
   "metadata": {},
   "outputs": [
    {
     "data": {
      "text/plain": [
       "True"
      ]
     },
     "execution_count": 64,
     "metadata": {},
     "output_type": "execute_result"
    }
   ],
   "source": [
    "5 in numbers"
   ]
  },
  {
   "cell_type": "code",
   "execution_count": 65,
   "id": "f37160cd-5bc8-4f7c-88fc-71e73e70dd53",
   "metadata": {},
   "outputs": [
    {
     "data": {
      "text/plain": [
       "True"
      ]
     },
     "execution_count": 65,
     "metadata": {},
     "output_type": "execute_result"
    }
   ],
   "source": [
    "1000 not in numbers"
   ]
  },
  {
   "cell_type": "code",
   "execution_count": 66,
   "id": "43a77f22-89e0-402a-a66e-349f5404b936",
   "metadata": {},
   "outputs": [
    {
     "data": {
      "text/plain": [
       "False"
      ]
     },
     "execution_count": 66,
     "metadata": {},
     "output_type": "execute_result"
    }
   ],
   "source": [
    "5 not in numbers"
   ]
  },
  {
   "cell_type": "code",
   "execution_count": 67,
   "id": "78404ca1-99fa-4c46-a488-6c2f3d1d3d87",
   "metadata": {},
   "outputs": [],
   "source": [
    "key = 1000"
   ]
  },
  {
   "cell_type": "code",
   "execution_count": 68,
   "id": "52307473-7617-441e-8994-acf97d3f6cf8",
   "metadata": {},
   "outputs": [
    {
     "name": "stdout",
     "output_type": "stream",
     "text": [
      "1000 not found\n"
     ]
    }
   ],
   "source": [
    "if key in numbers:\n",
    "    print(f'found {key} at index {numbers.index(key)}')\n",
    "else:\n",
    "    print(f'{key} not found')"
   ]
  },
  {
   "cell_type": "markdown",
   "id": "456355c2-70da-401e-a5f1-61f8646c98cc",
   "metadata": {},
   "source": [
    "#### Self Check 5.9"
   ]
  },
  {
   "cell_type": "code",
   "execution_count": 69,
   "id": "cda1062e-f134-4778-b6ba-9bc161eee5b8",
   "metadata": {},
   "outputs": [],
   "source": [
    "numbers = [67, 12, 46, 43, 13]"
   ]
  },
  {
   "cell_type": "code",
   "execution_count": 70,
   "id": "3f54cfd5-55d5-43ca-af45-ef3c59e35d2c",
   "metadata": {},
   "outputs": [
    {
     "data": {
      "text/plain": [
       "3"
      ]
     },
     "execution_count": 70,
     "metadata": {},
     "output_type": "execute_result"
    }
   ],
   "source": [
    "numbers.index(43)"
   ]
  },
  {
   "cell_type": "code",
   "execution_count": 71,
   "id": "b53ab05c-8e20-4b22-9bbf-149ede481cb5",
   "metadata": {},
   "outputs": [
    {
     "name": "stdout",
     "output_type": "stream",
     "text": [
      "44 not found\n"
     ]
    }
   ],
   "source": [
    "if 44 in numbers:\n",
    "    print(f'Found 44 at index: {numbers.index(44)}')\n",
    "else:\n",
    "    print(f'44 not found')"
   ]
  },
  {
   "cell_type": "markdown",
   "id": "889bb445-6b03-4dd3-9017-bd617203f7f9",
   "metadata": {},
   "source": [
    "#### Other List Methods"
   ]
  },
  {
   "cell_type": "code",
   "execution_count": 102,
   "id": "9d2f9e58-6fb9-4761-ab0e-92103bb9fe7c",
   "metadata": {},
   "outputs": [],
   "source": [
    "color_names = ['orange', 'yellow', 'green']"
   ]
  },
  {
   "cell_type": "code",
   "execution_count": 103,
   "id": "bf6819a7-8a3e-4922-971b-368842922563",
   "metadata": {},
   "outputs": [],
   "source": [
    "color_names.insert(0, 'red')"
   ]
  },
  {
   "cell_type": "code",
   "execution_count": 104,
   "id": "928b3ea6-b085-467d-9b37-cc209a4d27b5",
   "metadata": {},
   "outputs": [
    {
     "data": {
      "text/plain": [
       "['red', 'orange', 'yellow', 'green']"
      ]
     },
     "execution_count": 104,
     "metadata": {},
     "output_type": "execute_result"
    }
   ],
   "source": [
    "color_names"
   ]
  },
  {
   "cell_type": "code",
   "execution_count": 105,
   "id": "6122f43a-024a-418b-a6cf-d22139ec73b9",
   "metadata": {},
   "outputs": [],
   "source": [
    "color_names.append('blue')"
   ]
  },
  {
   "cell_type": "code",
   "execution_count": 106,
   "id": "e66058fd-121b-47b3-a99a-ce24aa215f73",
   "metadata": {},
   "outputs": [
    {
     "data": {
      "text/plain": [
       "['red', 'orange', 'yellow', 'green', 'blue']"
      ]
     },
     "execution_count": 106,
     "metadata": {},
     "output_type": "execute_result"
    }
   ],
   "source": [
    "color_names"
   ]
  },
  {
   "cell_type": "code",
   "execution_count": 107,
   "id": "b3da56d8-7daf-449b-85de-8d8ad60a540a",
   "metadata": {},
   "outputs": [],
   "source": [
    "color_names.extend(['indigo', 'violet'])"
   ]
  },
  {
   "cell_type": "code",
   "execution_count": 108,
   "id": "113f267d-b108-4cf4-a1ad-28264e847b00",
   "metadata": {},
   "outputs": [
    {
     "data": {
      "text/plain": [
       "['red', 'orange', 'yellow', 'green', 'blue', 'indigo', 'violet']"
      ]
     },
     "execution_count": 108,
     "metadata": {},
     "output_type": "execute_result"
    }
   ],
   "source": [
    "color_names"
   ]
  },
  {
   "cell_type": "code",
   "execution_count": 109,
   "id": "85629656-178d-4080-b528-09c22e7fbd12",
   "metadata": {},
   "outputs": [],
   "source": [
    "color_names.reverse()"
   ]
  },
  {
   "cell_type": "code",
   "execution_count": 110,
   "id": "a3e2194c-8d08-49b3-a743-273cdd96f068",
   "metadata": {},
   "outputs": [
    {
     "data": {
      "text/plain": [
       "['violet', 'indigo', 'blue', 'green', 'yellow', 'orange', 'red']"
      ]
     },
     "execution_count": 110,
     "metadata": {},
     "output_type": "execute_result"
    }
   ],
   "source": [
    "color_names"
   ]
  },
  {
   "cell_type": "code",
   "execution_count": 111,
   "id": "495d43bc-5b27-4ae3-91e4-ee4c6bf989af",
   "metadata": {},
   "outputs": [],
   "source": [
    "color_names.remove('green')"
   ]
  },
  {
   "cell_type": "code",
   "execution_count": 112,
   "id": "b7862238-6cee-42b2-b0ec-083957413590",
   "metadata": {},
   "outputs": [
    {
     "data": {
      "text/plain": [
       "['violet', 'indigo', 'blue', 'yellow', 'orange', 'red']"
      ]
     },
     "execution_count": 112,
     "metadata": {},
     "output_type": "execute_result"
    }
   ],
   "source": [
    "color_names"
   ]
  },
  {
   "cell_type": "code",
   "execution_count": 113,
   "id": "574000d7-f2b0-42c3-9763-60f53409176a",
   "metadata": {},
   "outputs": [],
   "source": [
    "color_names.clear()"
   ]
  },
  {
   "cell_type": "code",
   "execution_count": 114,
   "id": "c088a7d1-47c5-43ef-b598-b5ef79c6b418",
   "metadata": {},
   "outputs": [
    {
     "data": {
      "text/plain": [
       "[]"
      ]
     },
     "execution_count": 114,
     "metadata": {},
     "output_type": "execute_result"
    }
   ],
   "source": [
    "color_names"
   ]
  },
  {
   "cell_type": "markdown",
   "id": "3ae86c71-1a4d-435e-8efc-2393122456a9",
   "metadata": {},
   "source": [
    "#### Self Check 5.10"
   ]
  },
  {
   "cell_type": "code",
   "execution_count": 115,
   "id": "0ef6d5b9-9bfc-4160-8b8c-a9a30d21279a",
   "metadata": {},
   "outputs": [],
   "source": [
    "rainbow = ['green', 'orange', 'violet']"
   ]
  },
  {
   "cell_type": "code",
   "execution_count": 116,
   "id": "bb0ea36a-346e-46d9-b757-863574d2b167",
   "metadata": {},
   "outputs": [],
   "source": [
    "rainbow.insert(rainbow.index('violet'), 'red')"
   ]
  },
  {
   "cell_type": "code",
   "execution_count": 117,
   "id": "96f88e76-48c7-420e-9f0d-29069b93e666",
   "metadata": {},
   "outputs": [
    {
     "data": {
      "text/plain": [
       "['green', 'orange', 'red', 'violet']"
      ]
     },
     "execution_count": 117,
     "metadata": {},
     "output_type": "execute_result"
    }
   ],
   "source": [
    "rainbow"
   ]
  },
  {
   "cell_type": "code",
   "execution_count": 118,
   "id": "a796c692-a91e-42e5-b8f9-80ae809c6a7c",
   "metadata": {},
   "outputs": [],
   "source": [
    "rainbow.append('yellow')"
   ]
  },
  {
   "cell_type": "code",
   "execution_count": 119,
   "id": "28de326e-c7cd-4aba-9f62-2b454117c0cb",
   "metadata": {},
   "outputs": [
    {
     "data": {
      "text/plain": [
       "['green', 'orange', 'red', 'violet', 'yellow']"
      ]
     },
     "execution_count": 119,
     "metadata": {},
     "output_type": "execute_result"
    }
   ],
   "source": [
    "rainbow"
   ]
  },
  {
   "cell_type": "code",
   "execution_count": 124,
   "id": "e1fc57bf-2867-4d62-a7c1-823ef50b9392",
   "metadata": {},
   "outputs": [],
   "source": [
    "rainbow.reverse()"
   ]
  },
  {
   "cell_type": "code",
   "execution_count": 125,
   "id": "59b4575a-9860-4db6-b770-1981bad14766",
   "metadata": {},
   "outputs": [
    {
     "data": {
      "text/plain": [
       "['yellow', 'violet', 'red', 'orange', 'green']"
      ]
     },
     "execution_count": 125,
     "metadata": {},
     "output_type": "execute_result"
    }
   ],
   "source": [
    "rainbow"
   ]
  },
  {
   "cell_type": "code",
   "execution_count": 126,
   "id": "d3359e2c-44df-472f-bf7d-5d886497b055",
   "metadata": {},
   "outputs": [],
   "source": [
    "rainbow.remove('orange')"
   ]
  },
  {
   "cell_type": "code",
   "execution_count": 127,
   "id": "42be5be1-c5a8-49df-86b9-a3c05cfed381",
   "metadata": {},
   "outputs": [
    {
     "data": {
      "text/plain": [
       "['yellow', 'violet', 'red', 'green']"
      ]
     },
     "execution_count": 127,
     "metadata": {},
     "output_type": "execute_result"
    }
   ],
   "source": [
    "rainbow"
   ]
  },
  {
   "cell_type": "markdown",
   "id": "81c89994-50b1-45a9-be12-ed833eff5255",
   "metadata": {},
   "source": [
    "#### Simulating Stacks"
   ]
  },
  {
   "cell_type": "code",
   "execution_count": 128,
   "id": "1c1076fc-a539-48f0-a2be-63f8b5bbcd49",
   "metadata": {},
   "outputs": [],
   "source": [
    "stack = []"
   ]
  },
  {
   "cell_type": "code",
   "execution_count": 129,
   "id": "267b9048-ed8d-45e1-9830-3d1348f4dd1b",
   "metadata": {},
   "outputs": [],
   "source": [
    "stack.append('red')"
   ]
  },
  {
   "cell_type": "code",
   "execution_count": 130,
   "id": "f8a54f9c-49dc-4d58-b45d-24253d1687db",
   "metadata": {},
   "outputs": [
    {
     "data": {
      "text/plain": [
       "['red']"
      ]
     },
     "execution_count": 130,
     "metadata": {},
     "output_type": "execute_result"
    }
   ],
   "source": [
    "stack"
   ]
  },
  {
   "cell_type": "code",
   "execution_count": 131,
   "id": "7b1af077-02de-4bcb-b192-ab117bcfe9e9",
   "metadata": {},
   "outputs": [],
   "source": [
    "stack.append('green')"
   ]
  },
  {
   "cell_type": "code",
   "execution_count": 132,
   "id": "5bf3af41-3495-4d48-b024-528fc0e91214",
   "metadata": {},
   "outputs": [
    {
     "data": {
      "text/plain": [
       "['red', 'green']"
      ]
     },
     "execution_count": 132,
     "metadata": {},
     "output_type": "execute_result"
    }
   ],
   "source": [
    "stack"
   ]
  },
  {
   "cell_type": "code",
   "execution_count": 133,
   "id": "7ded5bf1-2254-4b9f-9269-cc5d81c5167b",
   "metadata": {},
   "outputs": [
    {
     "data": {
      "text/plain": [
       "'green'"
      ]
     },
     "execution_count": 133,
     "metadata": {},
     "output_type": "execute_result"
    }
   ],
   "source": [
    "stack.pop()"
   ]
  },
  {
   "cell_type": "code",
   "execution_count": 134,
   "id": "17cea37c-a800-4001-812e-1fc850bb1bb9",
   "metadata": {},
   "outputs": [
    {
     "data": {
      "text/plain": [
       "['red']"
      ]
     },
     "execution_count": 134,
     "metadata": {},
     "output_type": "execute_result"
    }
   ],
   "source": [
    "stack"
   ]
  },
  {
   "cell_type": "code",
   "execution_count": 135,
   "id": "f0812d01-3b2e-4dae-a2fd-af8e07fa367a",
   "metadata": {},
   "outputs": [
    {
     "data": {
      "text/plain": [
       "'red'"
      ]
     },
     "execution_count": 135,
     "metadata": {},
     "output_type": "execute_result"
    }
   ],
   "source": [
    "stack.pop()"
   ]
  },
  {
   "cell_type": "code",
   "execution_count": 136,
   "id": "f746260b-524a-45d2-bfdf-1a67a251fff9",
   "metadata": {},
   "outputs": [
    {
     "data": {
      "text/plain": [
       "[]"
      ]
     },
     "execution_count": 136,
     "metadata": {},
     "output_type": "execute_result"
    }
   ],
   "source": [
    "stack"
   ]
  },
  {
   "cell_type": "markdown",
   "id": "7d360e97-0e6c-4469-be5a-ef13a279e3a7",
   "metadata": {},
   "source": [
    "#### List Comprehension 5.12"
   ]
  },
  {
   "cell_type": "code",
   "execution_count": 137,
   "id": "43c76cbc-c349-45ea-8971-73403507b0dc",
   "metadata": {},
   "outputs": [],
   "source": [
    "list1 = []"
   ]
  },
  {
   "cell_type": "code",
   "execution_count": 138,
   "id": "0eddcdc6-b7af-4aa2-93f9-f95c99595225",
   "metadata": {},
   "outputs": [],
   "source": [
    "for item in range(1, 6):\n",
    "    list1.append(item)"
   ]
  },
  {
   "cell_type": "code",
   "execution_count": 139,
   "id": "65a8e549-29d4-4d91-81e7-c1936f97536d",
   "metadata": {},
   "outputs": [
    {
     "data": {
      "text/plain": [
       "[1, 2, 3, 4, 5]"
      ]
     },
     "execution_count": 139,
     "metadata": {},
     "output_type": "execute_result"
    }
   ],
   "source": [
    "list1"
   ]
  },
  {
   "cell_type": "code",
   "execution_count": 140,
   "id": "65cb4d7d-f223-417b-9e75-4514496bdb43",
   "metadata": {},
   "outputs": [],
   "source": [
    "list2 = [item for item in range(1, 6)]"
   ]
  },
  {
   "cell_type": "code",
   "execution_count": 141,
   "id": "85a8073d-cb7d-4950-830e-b3d9348727e6",
   "metadata": {},
   "outputs": [
    {
     "data": {
      "text/plain": [
       "[1, 2, 3, 4, 5]"
      ]
     },
     "execution_count": 141,
     "metadata": {},
     "output_type": "execute_result"
    }
   ],
   "source": [
    "list2"
   ]
  },
  {
   "cell_type": "code",
   "execution_count": 142,
   "id": "54846ec2-ffc9-4e69-bccc-1c0295cf9a31",
   "metadata": {},
   "outputs": [],
   "source": [
    "list3 = [item ** 3 for item in range (1, 6)]"
   ]
  },
  {
   "cell_type": "code",
   "execution_count": 143,
   "id": "62a0f4fd-80a3-4d18-9906-82c560b3d345",
   "metadata": {},
   "outputs": [
    {
     "data": {
      "text/plain": [
       "[1, 8, 27, 64, 125]"
      ]
     },
     "execution_count": 143,
     "metadata": {},
     "output_type": "execute_result"
    }
   ],
   "source": [
    "list3"
   ]
  },
  {
   "cell_type": "code",
   "execution_count": 144,
   "id": "e9b467d6-9db8-4e96-a497-6ac6c7ae0a83",
   "metadata": {},
   "outputs": [],
   "source": [
    "list4 = [item for item in range(1, 11) if item % 2 == 0]"
   ]
  },
  {
   "cell_type": "code",
   "execution_count": 145,
   "id": "99f4cf05-2663-45d4-a5d8-641fe1ebc17f",
   "metadata": {},
   "outputs": [
    {
     "data": {
      "text/plain": [
       "[2, 4, 6, 8, 10]"
      ]
     },
     "execution_count": 145,
     "metadata": {},
     "output_type": "execute_result"
    }
   ],
   "source": [
    "list4"
   ]
  },
  {
   "cell_type": "code",
   "execution_count": 147,
   "id": "d62e215d-6066-4324-a5a0-265323fc4fd9",
   "metadata": {},
   "outputs": [],
   "source": [
    "colors = ['red', 'orange', 'yellow', 'green', 'blue']"
   ]
  },
  {
   "cell_type": "code",
   "execution_count": 148,
   "id": "d26e757a-ae7c-4182-afb5-e87921fc3730",
   "metadata": {},
   "outputs": [],
   "source": [
    "colors2 = [item.upper() for item in colors]"
   ]
  },
  {
   "cell_type": "code",
   "execution_count": 149,
   "id": "27527b7a-2a94-4ae3-84d3-7abb3744084e",
   "metadata": {},
   "outputs": [
    {
     "data": {
      "text/plain": [
       "['RED', 'ORANGE', 'YELLOW', 'GREEN', 'BLUE']"
      ]
     },
     "execution_count": 149,
     "metadata": {},
     "output_type": "execute_result"
    }
   ],
   "source": [
    "colors2"
   ]
  },
  {
   "cell_type": "code",
   "execution_count": 150,
   "id": "871dfe1d-1136-4b41-949c-be574ee63a6b",
   "metadata": {},
   "outputs": [
    {
     "data": {
      "text/plain": [
       "['red', 'orange', 'yellow', 'green', 'blue']"
      ]
     },
     "execution_count": 150,
     "metadata": {},
     "output_type": "execute_result"
    }
   ],
   "source": [
    "colors"
   ]
  },
  {
   "cell_type": "markdown",
   "id": "9a464ea3-7d1e-444e-b238-08bd4cbdbc47",
   "metadata": {},
   "source": [
    "#### Self Check 5.12"
   ]
  },
  {
   "cell_type": "code",
   "execution_count": 151,
   "id": "60000d4e-9348-4fdf-a58a-8978081b4b1d",
   "metadata": {},
   "outputs": [],
   "source": [
    "cubes = [(x, x ** 3) for x in range(1, 6)]"
   ]
  },
  {
   "cell_type": "code",
   "execution_count": 152,
   "id": "ade0821c-5119-4a7a-a5cc-6ffd4bed2114",
   "metadata": {},
   "outputs": [
    {
     "data": {
      "text/plain": [
       "[(1, 1), (2, 8), (3, 27), (4, 64), (5, 125)]"
      ]
     },
     "execution_count": 152,
     "metadata": {},
     "output_type": "execute_result"
    }
   ],
   "source": [
    "cubes"
   ]
  },
  {
   "cell_type": "code",
   "execution_count": 153,
   "id": "26c5bf72-2274-4182-a7cf-6e30b6974ecf",
   "metadata": {},
   "outputs": [],
   "source": [
    "multiples = [x for x in range (3, 30, 3)]"
   ]
  },
  {
   "cell_type": "code",
   "execution_count": 154,
   "id": "b5708864-4baf-42b2-b7ba-636683ab770b",
   "metadata": {},
   "outputs": [
    {
     "data": {
      "text/plain": [
       "[3, 6, 9, 12, 15, 18, 21, 24, 27]"
      ]
     },
     "execution_count": 154,
     "metadata": {},
     "output_type": "execute_result"
    }
   ],
   "source": [
    "multiples"
   ]
  },
  {
   "cell_type": "markdown",
   "id": "21cd6fcd-8b2f-4589-bb21-74ea6b933818",
   "metadata": {},
   "source": [
    "#### Generator Expressions 5.13"
   ]
  },
  {
   "cell_type": "code",
   "execution_count": 155,
   "id": "67c2685a-d219-4623-8e00-2b1368e7e84b",
   "metadata": {},
   "outputs": [],
   "source": [
    "numbers = [10, 3, 7, 9, 4, 2, 8, 5, 6]"
   ]
  },
  {
   "cell_type": "code",
   "execution_count": 156,
   "id": "00a580f1-6889-4641-b890-1d0f360bf2f7",
   "metadata": {},
   "outputs": [
    {
     "name": "stdout",
     "output_type": "stream",
     "text": [
      "9 49 81 25 "
     ]
    }
   ],
   "source": [
    "for value in (x ** 2 for x in numbers if x % 2 != 0):\n",
    "    print(value, end=' ')"
   ]
  },
  {
   "cell_type": "markdown",
   "id": "617da0d7-32a2-4297-a40b-7c9f6942f188",
   "metadata": {},
   "source": [
    "#### Filter, Map, Reduce 5.14"
   ]
  },
  {
   "cell_type": "code",
   "execution_count": 157,
   "id": "a477e13c-f16c-422d-94ff-63b1c4ba8af7",
   "metadata": {},
   "outputs": [],
   "source": [
    "numbers = [10, 3, 7, 1, 9, 4, 2, 8, 5, 6]"
   ]
  },
  {
   "cell_type": "code",
   "execution_count": 158,
   "id": "cacde6dd-cb70-475a-825b-88e6d6159c8d",
   "metadata": {},
   "outputs": [],
   "source": [
    "def is_odd(x):\n",
    "    \"\"\"Returns True only if x is odd\"\"\"\n",
    "    return x % 2 != 0"
   ]
  },
  {
   "cell_type": "code",
   "execution_count": 159,
   "id": "98dbdb28-d2ef-4d7b-81b9-74c6bfba969f",
   "metadata": {},
   "outputs": [
    {
     "data": {
      "text/plain": [
       "[3, 7, 1, 9, 5]"
      ]
     },
     "execution_count": 159,
     "metadata": {},
     "output_type": "execute_result"
    }
   ],
   "source": [
    "list(filter(is_odd, numbers))"
   ]
  },
  {
   "cell_type": "code",
   "execution_count": 160,
   "id": "81a28864-48d3-4a59-8d12-3dc3d3605f28",
   "metadata": {},
   "outputs": [
    {
     "data": {
      "text/plain": [
       "[3, 7, 1, 9, 5]"
      ]
     },
     "execution_count": 160,
     "metadata": {},
     "output_type": "execute_result"
    }
   ],
   "source": [
    "[item for item in numbers if is_odd(item)]"
   ]
  },
  {
   "cell_type": "code",
   "execution_count": 161,
   "id": "ec13e3ee-8884-4852-8e6d-77469fe6c425",
   "metadata": {},
   "outputs": [
    {
     "data": {
      "text/plain": [
       "[3, 7, 1, 9, 5]"
      ]
     },
     "execution_count": 161,
     "metadata": {},
     "output_type": "execute_result"
    }
   ],
   "source": [
    "list(filter(lambda x: x % 2 != 0, numbers))"
   ]
  },
  {
   "cell_type": "code",
   "execution_count": 162,
   "id": "07b2f7d5-fcf8-46fc-ab5b-ee11dc62c77f",
   "metadata": {},
   "outputs": [
    {
     "data": {
      "text/plain": [
       "[10, 3, 7, 1, 9, 4, 2, 8, 5, 6]"
      ]
     },
     "execution_count": 162,
     "metadata": {},
     "output_type": "execute_result"
    }
   ],
   "source": [
    "numbers"
   ]
  },
  {
   "cell_type": "code",
   "execution_count": 163,
   "id": "a06ff3b3-2f75-4390-b4d1-c3963cf79537",
   "metadata": {},
   "outputs": [
    {
     "data": {
      "text/plain": [
       "[100, 9, 49, 1, 81, 16, 4, 64, 25, 36]"
      ]
     },
     "execution_count": 163,
     "metadata": {},
     "output_type": "execute_result"
    }
   ],
   "source": [
    "list(map(lambda x: x ** 2, numbers))"
   ]
  },
  {
   "cell_type": "code",
   "execution_count": 164,
   "id": "d3e502a5-4ef9-4a49-b25a-1a01b1dcd7c6",
   "metadata": {},
   "outputs": [
    {
     "data": {
      "text/plain": [
       "[100, 9, 49, 1, 81, 16, 4, 64, 25, 36]"
      ]
     },
     "execution_count": 164,
     "metadata": {},
     "output_type": "execute_result"
    }
   ],
   "source": [
    "[item ** 2 for item in numbers]"
   ]
  },
  {
   "cell_type": "code",
   "execution_count": 165,
   "id": "f356b7df-a250-4741-87a4-11ceccd074c4",
   "metadata": {},
   "outputs": [
    {
     "data": {
      "text/plain": [
       "[9, 49, 1, 81, 25]"
      ]
     },
     "execution_count": 165,
     "metadata": {},
     "output_type": "execute_result"
    }
   ],
   "source": [
    "list(map(lambda x: x ** 2,\n",
    "         filter(lambda x: x % 2 !=0, numbers)))"
   ]
  },
  {
   "cell_type": "markdown",
   "id": "f54497ae-b314-40ee-8c85-7917df7b887f",
   "metadata": {},
   "source": [
    "#### Self Check 5.14"
   ]
  },
  {
   "cell_type": "code",
   "execution_count": 166,
   "id": "e840845e-d395-4e96-b3df-cd7d228a3afb",
   "metadata": {},
   "outputs": [],
   "source": [
    "numbers = list(range(1, 16))"
   ]
  },
  {
   "cell_type": "code",
   "execution_count": 167,
   "id": "b7a0bf06-1daa-4aca-b91b-b9edf4323edb",
   "metadata": {},
   "outputs": [
    {
     "data": {
      "text/plain": [
       "[1, 2, 3, 4, 5, 6, 7, 8, 9, 10, 11, 12, 13, 14, 15]"
      ]
     },
     "execution_count": 167,
     "metadata": {},
     "output_type": "execute_result"
    }
   ],
   "source": [
    "numbers"
   ]
  },
  {
   "cell_type": "code",
   "execution_count": 168,
   "id": "d6583646-d30c-4e56-ab57-5f1295ca27b9",
   "metadata": {},
   "outputs": [
    {
     "data": {
      "text/plain": [
       "[2, 4, 6, 8, 10, 12, 14]"
      ]
     },
     "execution_count": 168,
     "metadata": {},
     "output_type": "execute_result"
    }
   ],
   "source": [
    "list(filter(lambda x: x % 2 == 0, numbers))"
   ]
  },
  {
   "cell_type": "code",
   "execution_count": 169,
   "id": "0d2d6213-9858-4fdf-8319-008713d28a37",
   "metadata": {},
   "outputs": [
    {
     "data": {
      "text/plain": [
       "[1, 4, 9, 16, 25, 36, 49, 64, 81, 100, 121, 144, 169, 196, 225]"
      ]
     },
     "execution_count": 169,
     "metadata": {},
     "output_type": "execute_result"
    }
   ],
   "source": [
    "list(map(lambda x: x ** 2, numbers))"
   ]
  },
  {
   "cell_type": "code",
   "execution_count": 170,
   "id": "552d2af6-ef93-4b53-a9b4-6bcd2645a65f",
   "metadata": {},
   "outputs": [
    {
     "data": {
      "text/plain": [
       "[4, 16, 36, 64, 100, 144, 196]"
      ]
     },
     "execution_count": 170,
     "metadata": {},
     "output_type": "execute_result"
    }
   ],
   "source": [
    "list(map(lambda x: x ** 2, filter(lambda x: x % 2 == 0, numbers)))"
   ]
  },
  {
   "cell_type": "code",
   "execution_count": 171,
   "id": "d305cc9a-bbdf-4ee6-895b-eac6982c3c30",
   "metadata": {},
   "outputs": [],
   "source": [
    "fahrenheit = [41, 32, 212]"
   ]
  },
  {
   "cell_type": "code",
   "execution_count": 173,
   "id": "05e53aad-3332-41ca-8590-c29b695ef952",
   "metadata": {},
   "outputs": [
    {
     "data": {
      "text/plain": [
       "[(41, 5.0), (32, 0.0), (212, 100.0)]"
      ]
     },
     "execution_count": 173,
     "metadata": {},
     "output_type": "execute_result"
    }
   ],
   "source": [
    "list(map(lambda x: (x, (x - 32) * 5 / 9), fahrenheit))"
   ]
  },
  {
   "cell_type": "markdown",
   "id": "9237b177-a9dd-433d-aa42-901bc08646b5",
   "metadata": {},
   "source": [
    "#### Self Check 5.15"
   ]
  },
  {
   "cell_type": "code",
   "execution_count": 175,
   "id": "b7d76457-edfd-403f-9dec-d046c25141e4",
   "metadata": {},
   "outputs": [],
   "source": [
    "foods = ['Cookies', 'pizza', 'Grapes',\n",
    "         'apples', 'steak', 'Bacon']"
   ]
  },
  {
   "cell_type": "code",
   "execution_count": 176,
   "id": "80a0dee4-497e-4cd7-b37f-237861ab5986",
   "metadata": {},
   "outputs": [
    {
     "data": {
      "text/plain": [
       "'Bacon'"
      ]
     },
     "execution_count": 176,
     "metadata": {},
     "output_type": "execute_result"
    }
   ],
   "source": [
    "min(foods)"
   ]
  },
  {
   "cell_type": "code",
   "execution_count": 177,
   "id": "f3efdd0d-3798-41d5-a85c-10006ff0a41b",
   "metadata": {},
   "outputs": [
    {
     "data": {
      "text/plain": [
       "'apples'"
      ]
     },
     "execution_count": 177,
     "metadata": {},
     "output_type": "execute_result"
    }
   ],
   "source": [
    "min(foods, key=lambda s: s.lower())"
   ]
  },
  {
   "cell_type": "markdown",
   "id": "2c7c761f-6566-4007-8e02-32d786b10c42",
   "metadata": {},
   "source": [
    "#### Two-Dimensional Lists 5.16"
   ]
  },
  {
   "cell_type": "code",
   "execution_count": 180,
   "id": "8b06aecb-4162-43e5-be5d-539eab9eb729",
   "metadata": {},
   "outputs": [],
   "source": [
    "a = [[77, 68, 86, 73], \n",
    "     [96, 87, 89, 81], \n",
    "     [70, 90, 86, 81]]"
   ]
  },
  {
   "cell_type": "code",
   "execution_count": 181,
   "id": "b72cbbfe-be6d-41e3-abd8-d5c3afe0f7aa",
   "metadata": {},
   "outputs": [
    {
     "name": "stdout",
     "output_type": "stream",
     "text": [
      "77 \n",
      "68 \n",
      "86 \n",
      "73 \n",
      "96 \n",
      "87 \n",
      "89 \n",
      "81 \n",
      "70 \n",
      "90 \n",
      "86 \n",
      "81 \n"
     ]
    }
   ],
   "source": [
    "for row in a:\n",
    "    for item in row:\n",
    "        print(item, end=' ')\n",
    "        print()"
   ]
  },
  {
   "cell_type": "code",
   "execution_count": 184,
   "id": "0ec12285-cf8b-47cd-a051-1ba26138d08d",
   "metadata": {},
   "outputs": [
    {
     "name": "stdout",
     "output_type": "stream",
     "text": [
      "a[0][0]=77  a[0][1]=68  a[0][2]=86  a[0][3]=73  \n",
      "a[1][0]=96  a[1][1]=87  a[1][2]=89  a[1][3]=81  \n",
      "a[2][0]=70  a[2][1]=90  a[2][2]=86  a[2][3]=81  \n"
     ]
    }
   ],
   "source": [
    "for i, row in enumerate(a):\n",
    "    for j, item in enumerate(row):\n",
    "        print(f'a[{i}][{j}]={item} ', end=' ')\n",
    "    print()\n",
    "    "
   ]
  },
  {
   "cell_type": "markdown",
   "id": "770a4aa0-5cf6-487e-a7cd-25e422732f4d",
   "metadata": {},
   "source": [
    "#### Self Check 5.16"
   ]
  },
  {
   "cell_type": "code",
   "execution_count": 185,
   "id": "d96f3019-5edb-4169-8230-cccfba38cd2c",
   "metadata": {},
   "outputs": [],
   "source": [
    "t = [[10, 7, 3], [20, 4, 17]]"
   ]
  },
  {
   "cell_type": "code",
   "execution_count": 186,
   "id": "e208d5b1-a457-4023-9891-3bbd00ef36a6",
   "metadata": {},
   "outputs": [],
   "source": [
    "total = 0"
   ]
  },
  {
   "cell_type": "code",
   "execution_count": 187,
   "id": "9c0d7f41-3eb0-4de0-bb02-972130080e93",
   "metadata": {},
   "outputs": [],
   "source": [
    "items = 0"
   ]
  },
  {
   "cell_type": "code",
   "execution_count": 188,
   "id": "5c726675-68c7-438b-8bf0-f95b3577739c",
   "metadata": {},
   "outputs": [],
   "source": [
    "for row in t:\n",
    "    for item in row:\n",
    "        total += item\n",
    "        items += 1"
   ]
  },
  {
   "cell_type": "code",
   "execution_count": 189,
   "id": "6462ca53-8d1e-494b-8b11-7356faa70089",
   "metadata": {},
   "outputs": [
    {
     "data": {
      "text/plain": [
       "10.166666666666666"
      ]
     },
     "execution_count": 189,
     "metadata": {},
     "output_type": "execute_result"
    }
   ],
   "source": [
    "total / items"
   ]
  },
  {
   "cell_type": "code",
   "execution_count": 190,
   "id": "8602b765-43b2-4bb9-8091-032fa7095165",
   "metadata": {},
   "outputs": [],
   "source": [
    "total = 0"
   ]
  },
  {
   "cell_type": "code",
   "execution_count": 191,
   "id": "12580393-7a06-4000-961f-ca319b765f99",
   "metadata": {},
   "outputs": [],
   "source": [
    "items = 0"
   ]
  },
  {
   "cell_type": "code",
   "execution_count": 192,
   "id": "b51f999a-5083-4516-8f3f-ab27b79cb563",
   "metadata": {},
   "outputs": [],
   "source": [
    "for row in t:\n",
    "    total += sum(row)\n",
    "    items += len(row)"
   ]
  },
  {
   "cell_type": "code",
   "execution_count": 193,
   "id": "72c2b507-2533-4afc-bbfc-bed98d46344c",
   "metadata": {},
   "outputs": [
    {
     "data": {
      "text/plain": [
       "10.166666666666666"
      ]
     },
     "execution_count": 193,
     "metadata": {},
     "output_type": "execute_result"
    }
   ],
   "source": [
    "total / items"
   ]
  }
 ],
 "metadata": {
  "kernelspec": {
   "display_name": "Python 3 (ipykernel)",
   "language": "python",
   "name": "python3"
  },
  "language_info": {
   "codemirror_mode": {
    "name": "ipython",
    "version": 3
   },
   "file_extension": ".py",
   "mimetype": "text/x-python",
   "name": "python",
   "nbconvert_exporter": "python",
   "pygments_lexer": "ipython3",
   "version": "3.9.7"
  }
 },
 "nbformat": 4,
 "nbformat_minor": 5
}
